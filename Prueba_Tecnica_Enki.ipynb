{
 "cells": [
  {
   "cell_type": "code",
   "execution_count": 2,
   "id": "3b8a9b45-382d-4c5a-86c2-9bbf6b738fb9",
   "metadata": {},
   "outputs": [],
   "source": [
    "# Importamos las librerias\n",
    "import pandas as pd"
   ]
  },
  {
   "cell_type": "code",
   "execution_count": 4,
   "id": "71f36315-bd6f-4a83-93d4-4fc7f179796f",
   "metadata": {},
   "outputs": [],
   "source": [
    "df_pbi = pd.read_excel('Ejercicio_set_de_datos_PBI.xlsx', sheet_name='Datos_consumo')"
   ]
  },
  {
   "cell_type": "code",
   "execution_count": 6,
   "id": "0cd993f4-360f-4d60-9425-127c395c4361",
   "metadata": {},
   "outputs": [
    {
     "data": {
      "text/html": [
       "<div>\n",
       "<style scoped>\n",
       "    .dataframe tbody tr th:only-of-type {\n",
       "        vertical-align: middle;\n",
       "    }\n",
       "\n",
       "    .dataframe tbody tr th {\n",
       "        vertical-align: top;\n",
       "    }\n",
       "\n",
       "    .dataframe thead th {\n",
       "        text-align: right;\n",
       "    }\n",
       "</style>\n",
       "<table border=\"1\" class=\"dataframe\">\n",
       "  <thead>\n",
       "    <tr style=\"text-align: right;\">\n",
       "      <th></th>\n",
       "      <th>Fecha periodo</th>\n",
       "      <th>Periodo Fis</th>\n",
       "      <th>Sociedad</th>\n",
       "      <th>Tipo de Cliente</th>\n",
       "      <th>codigo sector</th>\n",
       "      <th>Unidad</th>\n",
       "      <th>Consumo Mes</th>\n",
       "      <th>Segmento Tarifario</th>\n",
       "    </tr>\n",
       "  </thead>\n",
       "  <tbody>\n",
       "    <tr>\n",
       "      <th>0</th>\n",
       "      <td>2018-12-01</td>\n",
       "      <td>201812</td>\n",
       "      <td>MX02</td>\n",
       "      <td>IND</td>\n",
       "      <td>NaN</td>\n",
       "      <td>GJ</td>\n",
       "      <td>248832.124</td>\n",
       "      <td>GCG1</td>\n",
       "    </tr>\n",
       "    <tr>\n",
       "      <th>1</th>\n",
       "      <td>2018-11-01</td>\n",
       "      <td>201811</td>\n",
       "      <td>MX02</td>\n",
       "      <td>IND</td>\n",
       "      <td>I37</td>\n",
       "      <td>GJ</td>\n",
       "      <td>617.976</td>\n",
       "      <td>GCG1</td>\n",
       "    </tr>\n",
       "    <tr>\n",
       "      <th>2</th>\n",
       "      <td>2018-11-01</td>\n",
       "      <td>201811</td>\n",
       "      <td>MX02</td>\n",
       "      <td>IND</td>\n",
       "      <td>I26</td>\n",
       "      <td>GJ</td>\n",
       "      <td>450.708</td>\n",
       "      <td>GCG1</td>\n",
       "    </tr>\n",
       "    <tr>\n",
       "      <th>3</th>\n",
       "      <td>2018-11-01</td>\n",
       "      <td>201811</td>\n",
       "      <td>MX02</td>\n",
       "      <td>IND</td>\n",
       "      <td>I31</td>\n",
       "      <td>GJ</td>\n",
       "      <td>1069.373</td>\n",
       "      <td>GCG1</td>\n",
       "    </tr>\n",
       "    <tr>\n",
       "      <th>4</th>\n",
       "      <td>2018-09-01</td>\n",
       "      <td>201809</td>\n",
       "      <td>MX02</td>\n",
       "      <td>IND</td>\n",
       "      <td>I42</td>\n",
       "      <td>GJ</td>\n",
       "      <td>7607.526</td>\n",
       "      <td>GCG1</td>\n",
       "    </tr>\n",
       "  </tbody>\n",
       "</table>\n",
       "</div>"
      ],
      "text/plain": [
       "  Fecha periodo  Periodo Fis Sociedad Tipo de Cliente codigo sector Unidad  \\\n",
       "0    2018-12-01       201812     MX02             IND           NaN     GJ   \n",
       "1    2018-11-01       201811     MX02             IND           I37     GJ   \n",
       "2    2018-11-01       201811     MX02             IND           I26     GJ   \n",
       "3    2018-11-01       201811     MX02             IND           I31     GJ   \n",
       "4    2018-09-01       201809     MX02             IND           I42     GJ   \n",
       "\n",
       "   Consumo Mes Segmento Tarifario  \n",
       "0   248832.124               GCG1  \n",
       "1      617.976               GCG1  \n",
       "2      450.708               GCG1  \n",
       "3     1069.373               GCG1  \n",
       "4     7607.526               GCG1  "
      ]
     },
     "execution_count": 6,
     "metadata": {},
     "output_type": "execute_result"
    }
   ],
   "source": [
    "df_pbi.head()"
   ]
  },
  {
   "cell_type": "code",
   "execution_count": 8,
   "id": "4fee2a33-b2c7-4c04-823e-1b3522d4aa07",
   "metadata": {},
   "outputs": [
    {
     "name": "stdout",
     "output_type": "stream",
     "text": [
      "<class 'pandas.core.frame.DataFrame'>\n",
      "RangeIndex: 7540 entries, 0 to 7539\n",
      "Data columns (total 8 columns):\n",
      " #   Column              Non-Null Count  Dtype         \n",
      "---  ------              --------------  -----         \n",
      " 0   Fecha periodo       7540 non-null   datetime64[ns]\n",
      " 1   Periodo Fis         7540 non-null   int64         \n",
      " 2   Sociedad            7540 non-null   object        \n",
      " 3   Tipo de Cliente     7540 non-null   object        \n",
      " 4   codigo sector       7391 non-null   object        \n",
      " 5   Unidad              7540 non-null   object        \n",
      " 6   Consumo Mes         7540 non-null   float64       \n",
      " 7   Segmento Tarifario  6797 non-null   object        \n",
      "dtypes: datetime64[ns](1), float64(1), int64(1), object(5)\n",
      "memory usage: 471.4+ KB\n"
     ]
    }
   ],
   "source": [
    "df_pbi.info()"
   ]
  },
  {
   "cell_type": "code",
   "execution_count": 12,
   "id": "537f03cc-c338-4b32-8378-7c5331a5a13d",
   "metadata": {},
   "outputs": [],
   "source": [
    "nuevos_nombres = []\n",
    "for nombres_viejos in df_pbi.columns:\n",
    "    sin_espacios = nombres_viejos.replace(' ','_')\n",
    "    nuevos_nombres.append(sin_espacios)"
   ]
  },
  {
   "cell_type": "code",
   "execution_count": 18,
   "id": "b7c0ae07-3d69-4e51-b979-00409d95e6d4",
   "metadata": {},
   "outputs": [
    {
     "name": "stdout",
     "output_type": "stream",
     "text": [
      "Index(['Fecha_periodo', 'Periodo_Fis', 'Sociedad', 'Tipo_de_Cliente',\n",
      "       'codigo_sector', 'Unidad', 'Consumo_Mes', 'Segmento_Tarifario'],\n",
      "      dtype='object')\n"
     ]
    }
   ],
   "source": [
    "df_pbi.columns = nuevos_nombres"
   ]
  },
  {
   "cell_type": "code",
   "execution_count": 24,
   "id": "ef48ed57-6df9-46ec-93ff-37e6b38bfdb4",
   "metadata": {},
   "outputs": [],
   "source": [
    "df_pbi.rename(columns={'Periodo_Fis': 'Periodo', 'codigo_sector': 'Codigo_sector'}, inplace=True)"
   ]
  },
  {
   "cell_type": "code",
   "execution_count": 26,
   "id": "a9e89763-625b-468e-84f4-bd9916c08dab",
   "metadata": {},
   "outputs": [
    {
     "data": {
      "text/plain": [
       "Index(['Fecha_periodo', 'Periodo', 'Sociedad', 'Tipo_de_Cliente',\n",
       "       'Codigo_sector', 'Unidad', 'Consumo_Mes', 'Segmento_Tarifario'],\n",
       "      dtype='object')"
      ]
     },
     "execution_count": 26,
     "metadata": {},
     "output_type": "execute_result"
    }
   ],
   "source": [
    "df_pbi.columns"
   ]
  },
  {
   "cell_type": "code",
   "execution_count": null,
   "id": "387ecc71-680f-4511-a54b-f2dfb760aa8a",
   "metadata": {},
   "outputs": [],
   "source": [
    "df_p"
   ]
  }
 ],
 "metadata": {
  "kernelspec": {
   "display_name": "Python 3 (ipykernel)",
   "language": "python",
   "name": "python3"
  },
  "language_info": {
   "codemirror_mode": {
    "name": "ipython",
    "version": 3
   },
   "file_extension": ".py",
   "mimetype": "text/x-python",
   "name": "python",
   "nbconvert_exporter": "python",
   "pygments_lexer": "ipython3",
   "version": "3.12.2"
  }
 },
 "nbformat": 4,
 "nbformat_minor": 5
}
