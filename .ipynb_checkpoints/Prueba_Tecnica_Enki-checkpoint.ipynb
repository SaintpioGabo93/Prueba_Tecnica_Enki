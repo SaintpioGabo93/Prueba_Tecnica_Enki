{
 "cells": [
  {
   "cell_type": "markdown",
   "id": "bdf0dbba-81d5-449c-8068-103c6b228564",
   "metadata": {},
   "source": [
    "# Preprocesamiento de Datos"
   ]
  },
  {
   "cell_type": "markdown",
   "id": "a967515e-7e56-4b31-b8de-abdb92ed5a6f",
   "metadata": {},
   "source": [
    "En esta sección realizaremos la importación de los datasets a daframe de pandas. "
   ]
  },
  {
   "cell_type": "code",
   "execution_count": 4,
   "id": "3b8a9b45-382d-4c5a-86c2-9bbf6b738fb9",
   "metadata": {},
   "outputs": [],
   "source": [
    "# Importamos las librerias\n",
    "import pandas as pd\n",
    "from matplotlib import pyplot as plt"
   ]
  },
  {
   "cell_type": "code",
   "execution_count": 5,
   "id": "71f36315-bd6f-4a83-93d4-4fc7f179796f",
   "metadata": {},
   "outputs": [],
   "source": [
    "# Primera hoja del archivo xlsl\n",
    "df_datosConsumo = pd.read_excel('Ejercicio_set_de_datos_PBI.xlsx', sheet_name='Datos_consumo')"
   ]
  },
  {
   "cell_type": "code",
   "execution_count": 6,
   "id": "0cd993f4-360f-4d60-9425-127c395c4361",
   "metadata": {},
   "outputs": [
    {
     "data": {
      "text/html": [
       "<div>\n",
       "<style scoped>\n",
       "    .dataframe tbody tr th:only-of-type {\n",
       "        vertical-align: middle;\n",
       "    }\n",
       "\n",
       "    .dataframe tbody tr th {\n",
       "        vertical-align: top;\n",
       "    }\n",
       "\n",
       "    .dataframe thead th {\n",
       "        text-align: right;\n",
       "    }\n",
       "</style>\n",
       "<table border=\"1\" class=\"dataframe\">\n",
       "  <thead>\n",
       "    <tr style=\"text-align: right;\">\n",
       "      <th></th>\n",
       "      <th>Fecha periodo</th>\n",
       "      <th>Periodo Fis</th>\n",
       "      <th>Sociedad</th>\n",
       "      <th>Tipo de Cliente</th>\n",
       "      <th>codigo sector</th>\n",
       "      <th>Unidad</th>\n",
       "      <th>Consumo Mes</th>\n",
       "      <th>Segmento Tarifario</th>\n",
       "    </tr>\n",
       "  </thead>\n",
       "  <tbody>\n",
       "    <tr>\n",
       "      <th>0</th>\n",
       "      <td>2018-12-01</td>\n",
       "      <td>201812</td>\n",
       "      <td>MX02</td>\n",
       "      <td>IND</td>\n",
       "      <td>NaN</td>\n",
       "      <td>GJ</td>\n",
       "      <td>248832.124</td>\n",
       "      <td>GCG1</td>\n",
       "    </tr>\n",
       "    <tr>\n",
       "      <th>1</th>\n",
       "      <td>2018-11-01</td>\n",
       "      <td>201811</td>\n",
       "      <td>MX02</td>\n",
       "      <td>IND</td>\n",
       "      <td>I37</td>\n",
       "      <td>GJ</td>\n",
       "      <td>617.976</td>\n",
       "      <td>GCG1</td>\n",
       "    </tr>\n",
       "    <tr>\n",
       "      <th>2</th>\n",
       "      <td>2018-11-01</td>\n",
       "      <td>201811</td>\n",
       "      <td>MX02</td>\n",
       "      <td>IND</td>\n",
       "      <td>I26</td>\n",
       "      <td>GJ</td>\n",
       "      <td>450.708</td>\n",
       "      <td>GCG1</td>\n",
       "    </tr>\n",
       "    <tr>\n",
       "      <th>3</th>\n",
       "      <td>2018-11-01</td>\n",
       "      <td>201811</td>\n",
       "      <td>MX02</td>\n",
       "      <td>IND</td>\n",
       "      <td>I31</td>\n",
       "      <td>GJ</td>\n",
       "      <td>1069.373</td>\n",
       "      <td>GCG1</td>\n",
       "    </tr>\n",
       "    <tr>\n",
       "      <th>4</th>\n",
       "      <td>2018-09-01</td>\n",
       "      <td>201809</td>\n",
       "      <td>MX02</td>\n",
       "      <td>IND</td>\n",
       "      <td>I42</td>\n",
       "      <td>GJ</td>\n",
       "      <td>7607.526</td>\n",
       "      <td>GCG1</td>\n",
       "    </tr>\n",
       "  </tbody>\n",
       "</table>\n",
       "</div>"
      ],
      "text/plain": [
       "  Fecha periodo  Periodo Fis Sociedad Tipo de Cliente codigo sector Unidad  \\\n",
       "0    2018-12-01       201812     MX02             IND           NaN     GJ   \n",
       "1    2018-11-01       201811     MX02             IND           I37     GJ   \n",
       "2    2018-11-01       201811     MX02             IND           I26     GJ   \n",
       "3    2018-11-01       201811     MX02             IND           I31     GJ   \n",
       "4    2018-09-01       201809     MX02             IND           I42     GJ   \n",
       "\n",
       "   Consumo Mes Segmento Tarifario  \n",
       "0   248832.124               GCG1  \n",
       "1      617.976               GCG1  \n",
       "2      450.708               GCG1  \n",
       "3     1069.373               GCG1  \n",
       "4     7607.526               GCG1  "
      ]
     },
     "execution_count": 6,
     "metadata": {},
     "output_type": "execute_result"
    }
   ],
   "source": [
    "df_datosConsumo.head()"
   ]
  },
  {
   "cell_type": "code",
   "execution_count": 7,
   "id": "4fee2a33-b2c7-4c04-823e-1b3522d4aa07",
   "metadata": {},
   "outputs": [
    {
     "name": "stdout",
     "output_type": "stream",
     "text": [
      "<class 'pandas.core.frame.DataFrame'>\n",
      "RangeIndex: 7540 entries, 0 to 7539\n",
      "Data columns (total 8 columns):\n",
      " #   Column              Non-Null Count  Dtype         \n",
      "---  ------              --------------  -----         \n",
      " 0   Fecha periodo       7540 non-null   datetime64[ns]\n",
      " 1   Periodo Fis         7540 non-null   int64         \n",
      " 2   Sociedad            7540 non-null   object        \n",
      " 3   Tipo de Cliente     7540 non-null   object        \n",
      " 4   codigo sector       7391 non-null   object        \n",
      " 5   Unidad              7540 non-null   object        \n",
      " 6   Consumo Mes         7540 non-null   float64       \n",
      " 7   Segmento Tarifario  6797 non-null   object        \n",
      "dtypes: datetime64[ns](1), float64(1), int64(1), object(5)\n",
      "memory usage: 471.4+ KB\n"
     ]
    }
   ],
   "source": [
    "df_datosConsumo.info()"
   ]
  },
  {
   "cell_type": "code",
   "execution_count": 8,
   "id": "537f03cc-c338-4b32-8378-7c5331a5a13d",
   "metadata": {},
   "outputs": [],
   "source": [
    "nuevos_nombres = []\n",
    "for nombres_viejos in df_datosConsumo.columns:\n",
    "    sin_espacios = nombres_viejos.replace(' ','_')\n",
    "    nuevos_nombres.append(sin_espacios)"
   ]
  },
  {
   "cell_type": "code",
   "execution_count": 9,
   "id": "b7c0ae07-3d69-4e51-b979-00409d95e6d4",
   "metadata": {},
   "outputs": [],
   "source": [
    "df_datosConsumo.columns = nuevos_nombres"
   ]
  },
  {
   "cell_type": "code",
   "execution_count": 10,
   "id": "ef48ed57-6df9-46ec-93ff-37e6b38bfdb4",
   "metadata": {},
   "outputs": [],
   "source": [
    "df_datosConsumo.rename(columns={'Periodo_Fis': 'Periodo', 'codigo_sector': 'Codigo_sector'}, inplace=True)"
   ]
  },
  {
   "cell_type": "code",
   "execution_count": 11,
   "id": "a9e89763-625b-468e-84f4-bd9916c08dab",
   "metadata": {},
   "outputs": [
    {
     "data": {
      "text/plain": [
       "Index(['Fecha_periodo', 'Periodo', 'Sociedad', 'Tipo_de_Cliente',\n",
       "       'Codigo_sector', 'Unidad', 'Consumo_Mes', 'Segmento_Tarifario'],\n",
       "      dtype='object')"
      ]
     },
     "execution_count": 11,
     "metadata": {},
     "output_type": "execute_result"
    }
   ],
   "source": [
    "df_datosConsumo.columns"
   ]
  },
  {
   "cell_type": "code",
   "execution_count": 12,
   "id": "387ecc71-680f-4511-a54b-f2dfb760aa8a",
   "metadata": {},
   "outputs": [],
   "source": [
    "df_datosConsumo[['Sociedad','Tipo_de_Cliente','Codigo_sector','Unidad','Segmento_Tarifario']] = df_datosConsumo[['Sociedad','Tipo_de_Cliente','Codigo_sector','Unidad','Segmento_Tarifario']].astype('string')"
   ]
  },
  {
   "cell_type": "code",
   "execution_count": 13,
   "id": "31cfcc37-e4c5-411b-81d3-f322251ccf9a",
   "metadata": {},
   "outputs": [
    {
     "name": "stdout",
     "output_type": "stream",
     "text": [
      "<class 'pandas.core.frame.DataFrame'>\n",
      "RangeIndex: 7540 entries, 0 to 7539\n",
      "Data columns (total 8 columns):\n",
      " #   Column              Non-Null Count  Dtype         \n",
      "---  ------              --------------  -----         \n",
      " 0   Fecha_periodo       7540 non-null   datetime64[ns]\n",
      " 1   Periodo             7540 non-null   int64         \n",
      " 2   Sociedad            7540 non-null   string        \n",
      " 3   Tipo_de_Cliente     7540 non-null   string        \n",
      " 4   Codigo_sector       7391 non-null   string        \n",
      " 5   Unidad              7540 non-null   string        \n",
      " 6   Consumo_Mes         7540 non-null   float64       \n",
      " 7   Segmento_Tarifario  6797 non-null   string        \n",
      "dtypes: datetime64[ns](1), float64(1), int64(1), string(5)\n",
      "memory usage: 471.4 KB\n"
     ]
    }
   ],
   "source": [
    "df_datosConsumo.info()"
   ]
  },
  {
   "cell_type": "code",
   "execution_count": 14,
   "id": "942bb134-6258-4195-9e21-d0d80761d502",
   "metadata": {},
   "outputs": [],
   "source": [
    "df_datosConsumo[['Unidad','Segmento_Tarifario']] = df_datosConsumo[['Unidad','Segmento_Tarifario']].fillna('NA')"
   ]
  },
  {
   "cell_type": "code",
   "execution_count": 15,
   "id": "7e2783d2-706a-4ea0-857c-9b635cf0c8d2",
   "metadata": {},
   "outputs": [
    {
     "name": "stdout",
     "output_type": "stream",
     "text": [
      "<class 'pandas.core.frame.DataFrame'>\n",
      "RangeIndex: 7540 entries, 0 to 7539\n",
      "Data columns (total 8 columns):\n",
      " #   Column              Non-Null Count  Dtype         \n",
      "---  ------              --------------  -----         \n",
      " 0   Fecha_periodo       7540 non-null   datetime64[ns]\n",
      " 1   Periodo             7540 non-null   int64         \n",
      " 2   Sociedad            7540 non-null   string        \n",
      " 3   Tipo_de_Cliente     7540 non-null   string        \n",
      " 4   Codigo_sector       7391 non-null   string        \n",
      " 5   Unidad              7540 non-null   string        \n",
      " 6   Consumo_Mes         7540 non-null   float64       \n",
      " 7   Segmento_Tarifario  7540 non-null   string        \n",
      "dtypes: datetime64[ns](1), float64(1), int64(1), string(5)\n",
      "memory usage: 471.4 KB\n"
     ]
    }
   ],
   "source": [
    "df_datosConsumo.info()"
   ]
  },
  {
   "cell_type": "markdown",
   "id": "05beb1ff-1b96-4dcc-ab1c-9b177fc5c952",
   "metadata": {},
   "source": [
    "En esta, me pide que reemplace los que dicen unidad, no obstante, segun el metodo ```info()``` esta columna no tienve valores nulos, pero el que dice codigo de sector si. Se realiza una inspeccion para que se valores si esos datos se deben cambiar por NA"
   ]
  },
  {
   "cell_type": "code",
   "execution_count": 17,
   "id": "cc3e7bc3-4eb3-42c9-aee7-c3805209a8f8",
   "metadata": {},
   "outputs": [
    {
     "data": {
      "text/html": [
       "<div>\n",
       "<style scoped>\n",
       "    .dataframe tbody tr th:only-of-type {\n",
       "        vertical-align: middle;\n",
       "    }\n",
       "\n",
       "    .dataframe tbody tr th {\n",
       "        vertical-align: top;\n",
       "    }\n",
       "\n",
       "    .dataframe thead th {\n",
       "        text-align: right;\n",
       "    }\n",
       "</style>\n",
       "<table border=\"1\" class=\"dataframe\">\n",
       "  <thead>\n",
       "    <tr style=\"text-align: right;\">\n",
       "      <th></th>\n",
       "      <th>Fecha_periodo</th>\n",
       "      <th>Periodo</th>\n",
       "      <th>Sociedad</th>\n",
       "      <th>Tipo_de_Cliente</th>\n",
       "      <th>Codigo_sector</th>\n",
       "      <th>Unidad</th>\n",
       "      <th>Consumo_Mes</th>\n",
       "      <th>Segmento_Tarifario</th>\n",
       "    </tr>\n",
       "  </thead>\n",
       "  <tbody>\n",
       "    <tr>\n",
       "      <th>0</th>\n",
       "      <td>2018-12-01</td>\n",
       "      <td>201812</td>\n",
       "      <td>MX02</td>\n",
       "      <td>IND</td>\n",
       "      <td>&lt;NA&gt;</td>\n",
       "      <td>GJ</td>\n",
       "      <td>2.488321e+05</td>\n",
       "      <td>GCG1</td>\n",
       "    </tr>\n",
       "    <tr>\n",
       "      <th>232</th>\n",
       "      <td>2018-12-01</td>\n",
       "      <td>201812</td>\n",
       "      <td>MX05</td>\n",
       "      <td>IND</td>\n",
       "      <td>&lt;NA&gt;</td>\n",
       "      <td>GJ</td>\n",
       "      <td>3.576291e+05</td>\n",
       "      <td>GCG1</td>\n",
       "    </tr>\n",
       "    <tr>\n",
       "      <th>458</th>\n",
       "      <td>2018-12-01</td>\n",
       "      <td>201812</td>\n",
       "      <td>MX16</td>\n",
       "      <td>IND</td>\n",
       "      <td>&lt;NA&gt;</td>\n",
       "      <td>GJ</td>\n",
       "      <td>1.099422e+05</td>\n",
       "      <td>GCG1</td>\n",
       "    </tr>\n",
       "    <tr>\n",
       "      <th>611</th>\n",
       "      <td>2018-12-01</td>\n",
       "      <td>201812</td>\n",
       "      <td>MX06</td>\n",
       "      <td>IND</td>\n",
       "      <td>&lt;NA&gt;</td>\n",
       "      <td>GJ</td>\n",
       "      <td>1.488242e+05</td>\n",
       "      <td>GCG1</td>\n",
       "    </tr>\n",
       "    <tr>\n",
       "      <th>618</th>\n",
       "      <td>2018-08-01</td>\n",
       "      <td>201808</td>\n",
       "      <td>MX06</td>\n",
       "      <td>IND</td>\n",
       "      <td>&lt;NA&gt;</td>\n",
       "      <td>GJ</td>\n",
       "      <td>2.306880e+02</td>\n",
       "      <td>GCG1</td>\n",
       "    </tr>\n",
       "    <tr>\n",
       "      <th>...</th>\n",
       "      <td>...</td>\n",
       "      <td>...</td>\n",
       "      <td>...</td>\n",
       "      <td>...</td>\n",
       "      <td>...</td>\n",
       "      <td>...</td>\n",
       "      <td>...</td>\n",
       "      <td>...</td>\n",
       "    </tr>\n",
       "    <tr>\n",
       "      <th>7309</th>\n",
       "      <td>2018-05-01</td>\n",
       "      <td>201805</td>\n",
       "      <td>MX25</td>\n",
       "      <td>COME</td>\n",
       "      <td>&lt;NA&gt;</td>\n",
       "      <td>GJ</td>\n",
       "      <td>1.971833e+07</td>\n",
       "      <td>NA</td>\n",
       "    </tr>\n",
       "    <tr>\n",
       "      <th>7509</th>\n",
       "      <td>2018-08-01</td>\n",
       "      <td>201808</td>\n",
       "      <td>MX25</td>\n",
       "      <td>COME</td>\n",
       "      <td>&lt;NA&gt;</td>\n",
       "      <td>GJ</td>\n",
       "      <td>3.398605e+07</td>\n",
       "      <td>NA</td>\n",
       "    </tr>\n",
       "    <tr>\n",
       "      <th>7510</th>\n",
       "      <td>2018-04-01</td>\n",
       "      <td>201804</td>\n",
       "      <td>MX25</td>\n",
       "      <td>COME</td>\n",
       "      <td>&lt;NA&gt;</td>\n",
       "      <td>GJ</td>\n",
       "      <td>1.480354e+07</td>\n",
       "      <td>NA</td>\n",
       "    </tr>\n",
       "    <tr>\n",
       "      <th>7536</th>\n",
       "      <td>2018-12-01</td>\n",
       "      <td>201812</td>\n",
       "      <td>MX02</td>\n",
       "      <td>CMD</td>\n",
       "      <td>&lt;NA&gt;</td>\n",
       "      <td>GJ</td>\n",
       "      <td>1.117900e+03</td>\n",
       "      <td>PCG1</td>\n",
       "    </tr>\n",
       "    <tr>\n",
       "      <th>7537</th>\n",
       "      <td>2018-11-01</td>\n",
       "      <td>201811</td>\n",
       "      <td>MX25</td>\n",
       "      <td>COME</td>\n",
       "      <td>&lt;NA&gt;</td>\n",
       "      <td>GJ</td>\n",
       "      <td>4.118662e+06</td>\n",
       "      <td>NA</td>\n",
       "    </tr>\n",
       "  </tbody>\n",
       "</table>\n",
       "<p>149 rows × 8 columns</p>\n",
       "</div>"
      ],
      "text/plain": [
       "     Fecha_periodo  Periodo Sociedad Tipo_de_Cliente Codigo_sector Unidad  \\\n",
       "0       2018-12-01   201812     MX02             IND          <NA>     GJ   \n",
       "232     2018-12-01   201812     MX05             IND          <NA>     GJ   \n",
       "458     2018-12-01   201812     MX16             IND          <NA>     GJ   \n",
       "611     2018-12-01   201812     MX06             IND          <NA>     GJ   \n",
       "618     2018-08-01   201808     MX06             IND          <NA>     GJ   \n",
       "...            ...      ...      ...             ...           ...    ...   \n",
       "7309    2018-05-01   201805     MX25            COME          <NA>     GJ   \n",
       "7509    2018-08-01   201808     MX25            COME          <NA>     GJ   \n",
       "7510    2018-04-01   201804     MX25            COME          <NA>     GJ   \n",
       "7536    2018-12-01   201812     MX02             CMD          <NA>     GJ   \n",
       "7537    2018-11-01   201811     MX25            COME          <NA>     GJ   \n",
       "\n",
       "       Consumo_Mes Segmento_Tarifario  \n",
       "0     2.488321e+05               GCG1  \n",
       "232   3.576291e+05               GCG1  \n",
       "458   1.099422e+05               GCG1  \n",
       "611   1.488242e+05               GCG1  \n",
       "618   2.306880e+02               GCG1  \n",
       "...            ...                ...  \n",
       "7309  1.971833e+07                 NA  \n",
       "7509  3.398605e+07                 NA  \n",
       "7510  1.480354e+07                 NA  \n",
       "7536  1.117900e+03               PCG1  \n",
       "7537  4.118662e+06                 NA  \n",
       "\n",
       "[149 rows x 8 columns]"
      ]
     },
     "execution_count": 17,
     "metadata": {},
     "output_type": "execute_result"
    }
   ],
   "source": [
    "df_datosConsumo[df_datosConsumo['Codigo_sector'].isna()]"
   ]
  },
  {
   "cell_type": "markdown",
   "id": "6d04802e-5263-4b9d-8071-dd7ebbfa39db",
   "metadata": {},
   "source": [
    "Hay una tarea a continuacion que es relacionar las tablas de datos consumo con cat_sector, se van a tener que reemplazar estos datos por NA"
   ]
  },
  {
   "cell_type": "code",
   "execution_count": 19,
   "id": "ba6fbcde-0872-4ab0-b6a3-a226eb5ad529",
   "metadata": {},
   "outputs": [],
   "source": [
    "df_datosConsumo['Codigo_sector'] = df_datosConsumo['Codigo_sector'].fillna('NA')"
   ]
  },
  {
   "cell_type": "code",
   "execution_count": 20,
   "id": "2a15b7da-95d1-4a5c-8ec6-93a3e3c90dc0",
   "metadata": {},
   "outputs": [
    {
     "data": {
      "text/html": [
       "<div>\n",
       "<style scoped>\n",
       "    .dataframe tbody tr th:only-of-type {\n",
       "        vertical-align: middle;\n",
       "    }\n",
       "\n",
       "    .dataframe tbody tr th {\n",
       "        vertical-align: top;\n",
       "    }\n",
       "\n",
       "    .dataframe thead th {\n",
       "        text-align: right;\n",
       "    }\n",
       "</style>\n",
       "<table border=\"1\" class=\"dataframe\">\n",
       "  <thead>\n",
       "    <tr style=\"text-align: right;\">\n",
       "      <th></th>\n",
       "      <th>Fecha_periodo</th>\n",
       "      <th>Periodo</th>\n",
       "      <th>Sociedad</th>\n",
       "      <th>Tipo_de_Cliente</th>\n",
       "      <th>Codigo_sector</th>\n",
       "      <th>Unidad</th>\n",
       "      <th>Consumo_Mes</th>\n",
       "      <th>Segmento_Tarifario</th>\n",
       "    </tr>\n",
       "  </thead>\n",
       "  <tbody>\n",
       "  </tbody>\n",
       "</table>\n",
       "</div>"
      ],
      "text/plain": [
       "Empty DataFrame\n",
       "Columns: [Fecha_periodo, Periodo, Sociedad, Tipo_de_Cliente, Codigo_sector, Unidad, Consumo_Mes, Segmento_Tarifario]\n",
       "Index: []"
      ]
     },
     "execution_count": 20,
     "metadata": {},
     "output_type": "execute_result"
    }
   ],
   "source": [
    "df_datosConsumo[df_datosConsumo['Codigo_sector'].isna()]"
   ]
  },
  {
   "cell_type": "code",
   "execution_count": 21,
   "id": "8d590e45-0f52-484e-886e-20307917a1a7",
   "metadata": {},
   "outputs": [],
   "source": [
    "# Tercera hoja del archivo xlsl\n",
    "df_catsect = pd.read_excel('Ejercicio_set_de_datos_PBI.xlsx', sheet_name='cat_sectores', header=0)"
   ]
  },
  {
   "cell_type": "markdown",
   "id": "31bd765d-8788-4730-b314-aef4584b8e3b",
   "metadata": {},
   "source": [
    "Vamos con las siguientes tareas"
   ]
  },
  {
   "cell_type": "code",
   "execution_count": 23,
   "id": "4e972776-04dd-43c3-a3af-9ed4ba73b153",
   "metadata": {},
   "outputs": [
    {
     "data": {
      "text/html": [
       "<div>\n",
       "<style scoped>\n",
       "    .dataframe tbody tr th:only-of-type {\n",
       "        vertical-align: middle;\n",
       "    }\n",
       "\n",
       "    .dataframe tbody tr th {\n",
       "        vertical-align: top;\n",
       "    }\n",
       "\n",
       "    .dataframe thead th {\n",
       "        text-align: right;\n",
       "    }\n",
       "</style>\n",
       "<table border=\"1\" class=\"dataframe\">\n",
       "  <thead>\n",
       "    <tr style=\"text-align: right;\">\n",
       "      <th></th>\n",
       "      <th>codigo de sector</th>\n",
       "      <th>Descripcion sector / giro</th>\n",
       "    </tr>\n",
       "  </thead>\n",
       "  <tbody>\n",
       "    <tr>\n",
       "      <th>0</th>\n",
       "      <td>172A</td>\n",
       "      <td>Servicios Bancarios Imputados</td>\n",
       "    </tr>\n",
       "    <tr>\n",
       "      <th>1</th>\n",
       "      <td>I01</td>\n",
       "      <td>Agricultura</td>\n",
       "    </tr>\n",
       "    <tr>\n",
       "      <th>2</th>\n",
       "      <td>I02</td>\n",
       "      <td>Ganaderia</td>\n",
       "    </tr>\n",
       "    <tr>\n",
       "      <th>3</th>\n",
       "      <td>I03</td>\n",
       "      <td>Silvicultura</td>\n",
       "    </tr>\n",
       "    <tr>\n",
       "      <th>4</th>\n",
       "      <td>I04</td>\n",
       "      <td>Pesca</td>\n",
       "    </tr>\n",
       "  </tbody>\n",
       "</table>\n",
       "</div>"
      ],
      "text/plain": [
       "  codigo de sector      Descripcion sector / giro\n",
       "0             172A  Servicios Bancarios Imputados\n",
       "1              I01                    Agricultura\n",
       "2              I02                      Ganaderia\n",
       "3              I03                   Silvicultura\n",
       "4              I04                          Pesca"
      ]
     },
     "execution_count": 23,
     "metadata": {},
     "output_type": "execute_result"
    }
   ],
   "source": [
    "df_catsect.head()"
   ]
  },
  {
   "cell_type": "code",
   "execution_count": 24,
   "id": "29d8043b-6080-476b-b686-c245628cea79",
   "metadata": {},
   "outputs": [],
   "source": [
    "df_catsect.rename(columns={'codigo de sector':'Codigo_sector'}, inplace=True)"
   ]
  },
  {
   "cell_type": "code",
   "execution_count": 25,
   "id": "c24b67e2-5b33-4c0c-9075-7fd6a13d94d4",
   "metadata": {},
   "outputs": [
    {
     "name": "stdout",
     "output_type": "stream",
     "text": [
      "<class 'pandas.core.frame.DataFrame'>\n",
      "RangeIndex: 78 entries, 0 to 77\n",
      "Data columns (total 2 columns):\n",
      " #   Column                     Non-Null Count  Dtype \n",
      "---  ------                     --------------  ----- \n",
      " 0   Codigo_sector              78 non-null     object\n",
      " 1   Descripcion sector / giro  78 non-null     object\n",
      "dtypes: object(2)\n",
      "memory usage: 1.3+ KB\n"
     ]
    }
   ],
   "source": [
    "df_catsect.info()"
   ]
  },
  {
   "cell_type": "code",
   "execution_count": 26,
   "id": "896d75ba-58fb-4784-b24e-669c6c726e68",
   "metadata": {},
   "outputs": [],
   "source": [
    "# Segunda hoja del archivo xlsl\n",
    "df_sociedades = pd.read_excel('Ejercicio_set_de_datos_PBI.xlsx', sheet_name='Sociedades', header=0)"
   ]
  },
  {
   "cell_type": "code",
   "execution_count": 27,
   "id": "e54e5316-5cae-43c6-9010-5e65cbd224a0",
   "metadata": {},
   "outputs": [
    {
     "data": {
      "text/html": [
       "<div>\n",
       "<style scoped>\n",
       "    .dataframe tbody tr th:only-of-type {\n",
       "        vertical-align: middle;\n",
       "    }\n",
       "\n",
       "    .dataframe tbody tr th {\n",
       "        vertical-align: top;\n",
       "    }\n",
       "\n",
       "    .dataframe thead th {\n",
       "        text-align: right;\n",
       "    }\n",
       "</style>\n",
       "<table border=\"1\" class=\"dataframe\">\n",
       "  <thead>\n",
       "    <tr style=\"text-align: right;\">\n",
       "      <th></th>\n",
       "      <th>Sociedad clave</th>\n",
       "      <th>Sociedad descripcion</th>\n",
       "    </tr>\n",
       "  </thead>\n",
       "  <tbody>\n",
       "    <tr>\n",
       "      <th>0</th>\n",
       "      <td>MX02</td>\n",
       "      <td>CMG - Consorcio Mexi Gas SA de CV</td>\n",
       "    </tr>\n",
       "    <tr>\n",
       "      <th>1</th>\n",
       "      <td>MX05</td>\n",
       "      <td>DGJ - Tractebel DGJ SA de CV</td>\n",
       "    </tr>\n",
       "    <tr>\n",
       "      <th>2</th>\n",
       "      <td>MX06</td>\n",
       "      <td>DGQ - Tractebel Digaqro SA de CV</td>\n",
       "    </tr>\n",
       "    <tr>\n",
       "      <th>3</th>\n",
       "      <td>MX12</td>\n",
       "      <td>GNP - Tractebel GNP SA de CV</td>\n",
       "    </tr>\n",
       "    <tr>\n",
       "      <th>4</th>\n",
       "      <td>MX16</td>\n",
       "      <td>NGM - Natgasmex SA de CV</td>\n",
       "    </tr>\n",
       "  </tbody>\n",
       "</table>\n",
       "</div>"
      ],
      "text/plain": [
       "  Sociedad clave               Sociedad descripcion\n",
       "0           MX02  CMG - Consorcio Mexi Gas SA de CV\n",
       "1           MX05       DGJ - Tractebel DGJ SA de CV\n",
       "2           MX06   DGQ - Tractebel Digaqro SA de CV\n",
       "3           MX12       GNP - Tractebel GNP SA de CV\n",
       "4           MX16           NGM - Natgasmex SA de CV"
      ]
     },
     "execution_count": 27,
     "metadata": {},
     "output_type": "execute_result"
    }
   ],
   "source": [
    "df_sociedades.head()"
   ]
  },
  {
   "cell_type": "code",
   "execution_count": 28,
   "id": "c98377d5-de37-45e6-b6f4-7edad988f16c",
   "metadata": {},
   "outputs": [],
   "source": [
    "df_sociedades.rename(columns={'Sociedad clave': 'Sociedad'}, inplace=True)"
   ]
  },
  {
   "cell_type": "code",
   "execution_count": 29,
   "id": "f3e6edd4-b3f5-4d6f-9f07-6ee06acb6e00",
   "metadata": {},
   "outputs": [
    {
     "name": "stdout",
     "output_type": "stream",
     "text": [
      "<class 'pandas.core.frame.DataFrame'>\n",
      "RangeIndex: 7 entries, 0 to 6\n",
      "Data columns (total 2 columns):\n",
      " #   Column                Non-Null Count  Dtype \n",
      "---  ------                --------------  ----- \n",
      " 0   Sociedad              7 non-null      object\n",
      " 1   Sociedad descripcion  7 non-null      object\n",
      "dtypes: object(2)\n",
      "memory usage: 244.0+ bytes\n"
     ]
    }
   ],
   "source": [
    "df_sociedades.info()"
   ]
  },
  {
   "cell_type": "code",
   "execution_count": 30,
   "id": "3832b92f-4ff3-459a-874d-ba5d2de9c02b",
   "metadata": {},
   "outputs": [],
   "source": [
    "# Cuarta hoja del archivo xlsl\n",
    "\n",
    "df_tipoCliente = pd.read_excel('Ejercicio_set_de_datos_PBI.xlsx', sheet_name='Tipo de cliente')"
   ]
  },
  {
   "cell_type": "code",
   "execution_count": 31,
   "id": "40328a03-0b20-4e04-99a2-bc402ee589f6",
   "metadata": {},
   "outputs": [
    {
     "data": {
      "text/html": [
       "<div>\n",
       "<style scoped>\n",
       "    .dataframe tbody tr th:only-of-type {\n",
       "        vertical-align: middle;\n",
       "    }\n",
       "\n",
       "    .dataframe tbody tr th {\n",
       "        vertical-align: top;\n",
       "    }\n",
       "\n",
       "    .dataframe thead th {\n",
       "        text-align: right;\n",
       "    }\n",
       "</style>\n",
       "<table border=\"1\" class=\"dataframe\">\n",
       "  <thead>\n",
       "    <tr style=\"text-align: right;\">\n",
       "      <th></th>\n",
       "      <th>Clave cliente</th>\n",
       "      <th>Descripcion</th>\n",
       "    </tr>\n",
       "  </thead>\n",
       "  <tbody>\n",
       "    <tr>\n",
       "      <th>0</th>\n",
       "      <td>CMD</td>\n",
       "      <td>Comercialización con distribución</td>\n",
       "    </tr>\n",
       "    <tr>\n",
       "      <th>1</th>\n",
       "      <td>COME</td>\n",
       "      <td>Comercializadora</td>\n",
       "    </tr>\n",
       "    <tr>\n",
       "      <th>2</th>\n",
       "      <td>INC</td>\n",
       "      <td>Industriales con comercialización</td>\n",
       "    </tr>\n",
       "    <tr>\n",
       "      <th>3</th>\n",
       "      <td>IND</td>\n",
       "      <td>Industriales con distribución</td>\n",
       "    </tr>\n",
       "  </tbody>\n",
       "</table>\n",
       "</div>"
      ],
      "text/plain": [
       "  Clave cliente                        Descripcion\n",
       "0           CMD  Comercialización con distribución\n",
       "1          COME                   Comercializadora\n",
       "2           INC  Industriales con comercialización\n",
       "3           IND      Industriales con distribución"
      ]
     },
     "execution_count": 31,
     "metadata": {},
     "output_type": "execute_result"
    }
   ],
   "source": [
    "df_tipoCliente.head()"
   ]
  },
  {
   "cell_type": "code",
   "execution_count": 32,
   "id": "2ab0d142-0efe-4bdd-9119-2f32bff828be",
   "metadata": {},
   "outputs": [
    {
     "name": "stdout",
     "output_type": "stream",
     "text": [
      "<class 'pandas.core.frame.DataFrame'>\n",
      "RangeIndex: 4 entries, 0 to 3\n",
      "Data columns (total 2 columns):\n",
      " #   Column         Non-Null Count  Dtype \n",
      "---  ------         --------------  ----- \n",
      " 0   Clave cliente  4 non-null      object\n",
      " 1   Descripcion    4 non-null      object\n",
      "dtypes: object(2)\n",
      "memory usage: 196.0+ bytes\n"
     ]
    }
   ],
   "source": [
    "df_tipoCliente.info()"
   ]
  },
  {
   "cell_type": "code",
   "execution_count": 34,
   "id": "89973c31-b49f-4373-8ffa-e3f635a77451",
   "metadata": {},
   "outputs": [
    {
     "data": {
      "text/plain": [
       "0     CMD\n",
       "1    COME\n",
       "2     INC\n",
       "3     IND\n",
       "Name: Tipo_de_Cliente, dtype: string"
      ]
     },
     "execution_count": 34,
     "metadata": {},
     "output_type": "execute_result"
    }
   ],
   "source": [
    "df_tipoCliente['Tipo_de_Cliente'].astype('string')"
   ]
  },
  {
   "cell_type": "code",
   "execution_count": 33,
   "id": "0760b709-7ac0-4671-8195-678361fadc44",
   "metadata": {},
   "outputs": [],
   "source": [
    "df_tipoCliente.rename(columns={'Clave cliente':'Tipo_de_Cliente'}, inplace=True)"
   ]
  },
  {
   "cell_type": "markdown",
   "id": "5db37013-7a1e-40d7-bfc6-77c391a0f189",
   "metadata": {},
   "source": [
    "# Relaciones entre Tablas"
   ]
  },
  {
   "cell_type": "code",
   "execution_count": 36,
   "id": "f478abfc-3a72-4dbd-b9c7-a910c66f1234",
   "metadata": {},
   "outputs": [],
   "source": [
    "Sociedades_datosConsumo_merge = pd.merge(df_datosConsumo, df_sociedades, on='Sociedad', how='left')\n",
    "#Sociedades_datosConsumo_merge = Sociedades_datosConsumo_merge.reset_index()"
   ]
  },
  {
   "cell_type": "code",
   "execution_count": 37,
   "id": "23972b9c-4bab-4e65-a399-0495bff02e49",
   "metadata": {},
   "outputs": [
    {
     "data": {
      "text/html": [
       "<div>\n",
       "<style scoped>\n",
       "    .dataframe tbody tr th:only-of-type {\n",
       "        vertical-align: middle;\n",
       "    }\n",
       "\n",
       "    .dataframe tbody tr th {\n",
       "        vertical-align: top;\n",
       "    }\n",
       "\n",
       "    .dataframe thead th {\n",
       "        text-align: right;\n",
       "    }\n",
       "</style>\n",
       "<table border=\"1\" class=\"dataframe\">\n",
       "  <thead>\n",
       "    <tr style=\"text-align: right;\">\n",
       "      <th></th>\n",
       "      <th>Fecha_periodo</th>\n",
       "      <th>Periodo</th>\n",
       "      <th>Sociedad</th>\n",
       "      <th>Tipo_de_Cliente</th>\n",
       "      <th>Codigo_sector</th>\n",
       "      <th>Unidad</th>\n",
       "      <th>Consumo_Mes</th>\n",
       "      <th>Segmento_Tarifario</th>\n",
       "      <th>Sociedad descripcion</th>\n",
       "    </tr>\n",
       "  </thead>\n",
       "  <tbody>\n",
       "    <tr>\n",
       "      <th>0</th>\n",
       "      <td>2018-12-01</td>\n",
       "      <td>201812</td>\n",
       "      <td>MX02</td>\n",
       "      <td>IND</td>\n",
       "      <td>NA</td>\n",
       "      <td>GJ</td>\n",
       "      <td>248832.124</td>\n",
       "      <td>GCG1</td>\n",
       "      <td>CMG - Consorcio Mexi Gas SA de CV</td>\n",
       "    </tr>\n",
       "    <tr>\n",
       "      <th>1</th>\n",
       "      <td>2018-11-01</td>\n",
       "      <td>201811</td>\n",
       "      <td>MX02</td>\n",
       "      <td>IND</td>\n",
       "      <td>I37</td>\n",
       "      <td>GJ</td>\n",
       "      <td>617.976</td>\n",
       "      <td>GCG1</td>\n",
       "      <td>CMG - Consorcio Mexi Gas SA de CV</td>\n",
       "    </tr>\n",
       "    <tr>\n",
       "      <th>2</th>\n",
       "      <td>2018-11-01</td>\n",
       "      <td>201811</td>\n",
       "      <td>MX02</td>\n",
       "      <td>IND</td>\n",
       "      <td>I26</td>\n",
       "      <td>GJ</td>\n",
       "      <td>450.708</td>\n",
       "      <td>GCG1</td>\n",
       "      <td>CMG - Consorcio Mexi Gas SA de CV</td>\n",
       "    </tr>\n",
       "    <tr>\n",
       "      <th>3</th>\n",
       "      <td>2018-11-01</td>\n",
       "      <td>201811</td>\n",
       "      <td>MX02</td>\n",
       "      <td>IND</td>\n",
       "      <td>I31</td>\n",
       "      <td>GJ</td>\n",
       "      <td>1069.373</td>\n",
       "      <td>GCG1</td>\n",
       "      <td>CMG - Consorcio Mexi Gas SA de CV</td>\n",
       "    </tr>\n",
       "    <tr>\n",
       "      <th>4</th>\n",
       "      <td>2018-09-01</td>\n",
       "      <td>201809</td>\n",
       "      <td>MX02</td>\n",
       "      <td>IND</td>\n",
       "      <td>I42</td>\n",
       "      <td>GJ</td>\n",
       "      <td>7607.526</td>\n",
       "      <td>GCG1</td>\n",
       "      <td>CMG - Consorcio Mexi Gas SA de CV</td>\n",
       "    </tr>\n",
       "  </tbody>\n",
       "</table>\n",
       "</div>"
      ],
      "text/plain": [
       "  Fecha_periodo  Periodo Sociedad Tipo_de_Cliente Codigo_sector Unidad  \\\n",
       "0    2018-12-01   201812     MX02             IND            NA     GJ   \n",
       "1    2018-11-01   201811     MX02             IND           I37     GJ   \n",
       "2    2018-11-01   201811     MX02             IND           I26     GJ   \n",
       "3    2018-11-01   201811     MX02             IND           I31     GJ   \n",
       "4    2018-09-01   201809     MX02             IND           I42     GJ   \n",
       "\n",
       "   Consumo_Mes Segmento_Tarifario               Sociedad descripcion  \n",
       "0   248832.124               GCG1  CMG - Consorcio Mexi Gas SA de CV  \n",
       "1      617.976               GCG1  CMG - Consorcio Mexi Gas SA de CV  \n",
       "2      450.708               GCG1  CMG - Consorcio Mexi Gas SA de CV  \n",
       "3     1069.373               GCG1  CMG - Consorcio Mexi Gas SA de CV  \n",
       "4     7607.526               GCG1  CMG - Consorcio Mexi Gas SA de CV  "
      ]
     },
     "execution_count": 37,
     "metadata": {},
     "output_type": "execute_result"
    }
   ],
   "source": [
    "Sociedades_datosConsumo_merge.head()"
   ]
  },
  {
   "cell_type": "code",
   "execution_count": 38,
   "id": "05120032-ac60-4daa-a934-3c2298e42d76",
   "metadata": {},
   "outputs": [],
   "source": [
    "df_unido = pd.merge(Sociedades_datosConsumo_merge, df_catsect, on='Codigo_sector', how='left')\n",
    "#df_unido = df_unido.reset_index()"
   ]
  },
  {
   "cell_type": "code",
   "execution_count": 39,
   "id": "b02c62e9-0008-445a-bcbf-8ee30649e95f",
   "metadata": {},
   "outputs": [
    {
     "data": {
      "text/html": [
       "<div>\n",
       "<style scoped>\n",
       "    .dataframe tbody tr th:only-of-type {\n",
       "        vertical-align: middle;\n",
       "    }\n",
       "\n",
       "    .dataframe tbody tr th {\n",
       "        vertical-align: top;\n",
       "    }\n",
       "\n",
       "    .dataframe thead th {\n",
       "        text-align: right;\n",
       "    }\n",
       "</style>\n",
       "<table border=\"1\" class=\"dataframe\">\n",
       "  <thead>\n",
       "    <tr style=\"text-align: right;\">\n",
       "      <th></th>\n",
       "      <th>Fecha_periodo</th>\n",
       "      <th>Periodo</th>\n",
       "      <th>Sociedad</th>\n",
       "      <th>Tipo_de_Cliente</th>\n",
       "      <th>Codigo_sector</th>\n",
       "      <th>Unidad</th>\n",
       "      <th>Consumo_Mes</th>\n",
       "      <th>Segmento_Tarifario</th>\n",
       "      <th>Sociedad descripcion</th>\n",
       "      <th>Descripcion sector / giro</th>\n",
       "    </tr>\n",
       "  </thead>\n",
       "  <tbody>\n",
       "    <tr>\n",
       "      <th>0</th>\n",
       "      <td>2018-12-01</td>\n",
       "      <td>201812</td>\n",
       "      <td>MX02</td>\n",
       "      <td>IND</td>\n",
       "      <td>NA</td>\n",
       "      <td>GJ</td>\n",
       "      <td>248832.124</td>\n",
       "      <td>GCG1</td>\n",
       "      <td>CMG - Consorcio Mexi Gas SA de CV</td>\n",
       "      <td>NaN</td>\n",
       "    </tr>\n",
       "    <tr>\n",
       "      <th>1</th>\n",
       "      <td>2018-11-01</td>\n",
       "      <td>201811</td>\n",
       "      <td>MX02</td>\n",
       "      <td>IND</td>\n",
       "      <td>I37</td>\n",
       "      <td>GJ</td>\n",
       "      <td>617.976</td>\n",
       "      <td>GCG1</td>\n",
       "      <td>CMG - Consorcio Mexi Gas SA de CV</td>\n",
       "      <td>Resinas Sintéticas Y Fibras Químicas</td>\n",
       "    </tr>\n",
       "    <tr>\n",
       "      <th>2</th>\n",
       "      <td>2018-11-01</td>\n",
       "      <td>201811</td>\n",
       "      <td>MX02</td>\n",
       "      <td>IND</td>\n",
       "      <td>I26</td>\n",
       "      <td>GJ</td>\n",
       "      <td>450.708</td>\n",
       "      <td>GCG1</td>\n",
       "      <td>CMG - Consorcio Mexi Gas SA de CV</td>\n",
       "      <td>Otras Industrias Textiles</td>\n",
       "    </tr>\n",
       "    <tr>\n",
       "      <th>3</th>\n",
       "      <td>2018-11-01</td>\n",
       "      <td>201811</td>\n",
       "      <td>MX02</td>\n",
       "      <td>IND</td>\n",
       "      <td>I31</td>\n",
       "      <td>GJ</td>\n",
       "      <td>1069.373</td>\n",
       "      <td>GCG1</td>\n",
       "      <td>CMG - Consorcio Mexi Gas SA de CV</td>\n",
       "      <td>Papel Y Cartón</td>\n",
       "    </tr>\n",
       "    <tr>\n",
       "      <th>4</th>\n",
       "      <td>2018-09-01</td>\n",
       "      <td>201809</td>\n",
       "      <td>MX02</td>\n",
       "      <td>IND</td>\n",
       "      <td>I42</td>\n",
       "      <td>GJ</td>\n",
       "      <td>7607.526</td>\n",
       "      <td>GCG1</td>\n",
       "      <td>CMG - Consorcio Mexi Gas SA de CV</td>\n",
       "      <td>Artículos De Plástico</td>\n",
       "    </tr>\n",
       "  </tbody>\n",
       "</table>\n",
       "</div>"
      ],
      "text/plain": [
       "  Fecha_periodo  Periodo Sociedad Tipo_de_Cliente Codigo_sector Unidad  \\\n",
       "0    2018-12-01   201812     MX02             IND            NA     GJ   \n",
       "1    2018-11-01   201811     MX02             IND           I37     GJ   \n",
       "2    2018-11-01   201811     MX02             IND           I26     GJ   \n",
       "3    2018-11-01   201811     MX02             IND           I31     GJ   \n",
       "4    2018-09-01   201809     MX02             IND           I42     GJ   \n",
       "\n",
       "   Consumo_Mes Segmento_Tarifario               Sociedad descripcion  \\\n",
       "0   248832.124               GCG1  CMG - Consorcio Mexi Gas SA de CV   \n",
       "1      617.976               GCG1  CMG - Consorcio Mexi Gas SA de CV   \n",
       "2      450.708               GCG1  CMG - Consorcio Mexi Gas SA de CV   \n",
       "3     1069.373               GCG1  CMG - Consorcio Mexi Gas SA de CV   \n",
       "4     7607.526               GCG1  CMG - Consorcio Mexi Gas SA de CV   \n",
       "\n",
       "              Descripcion sector / giro  \n",
       "0                                   NaN  \n",
       "1  Resinas Sintéticas Y Fibras Químicas  \n",
       "2             Otras Industrias Textiles  \n",
       "3                        Papel Y Cartón  \n",
       "4                 Artículos De Plástico  "
      ]
     },
     "execution_count": 39,
     "metadata": {},
     "output_type": "execute_result"
    }
   ],
   "source": [
    "df_unido.head()"
   ]
  },
  {
   "cell_type": "markdown",
   "id": "e0ea5c48-e9e6-431c-966c-be8599ce92af",
   "metadata": {},
   "source": [
    "# Medidas y Columnas"
   ]
  },
  {
   "cell_type": "code",
   "execution_count": 41,
   "id": "608e457b-f740-433e-9ba6-01acec763abf",
   "metadata": {},
   "outputs": [],
   "source": [
    "df_unido['IVA'] = df_unido['Consumo_Mes'] * 0.16"
   ]
  },
  {
   "cell_type": "code",
   "execution_count": 42,
   "id": "decdb59a-8db1-498e-b1b0-1c6d7c568fd5",
   "metadata": {},
   "outputs": [
    {
     "data": {
      "text/plain": [
       "0    39813.13984\n",
       "1       98.87616\n",
       "2       72.11328\n",
       "3      171.09968\n",
       "4     1217.20416\n",
       "Name: IVA, dtype: float64"
      ]
     },
     "execution_count": 42,
     "metadata": {},
     "output_type": "execute_result"
    }
   ],
   "source": [
    "df_unido['IVA'].head()"
   ]
  },
  {
   "cell_type": "code",
   "execution_count": 43,
   "id": "b087d499-f8ec-4b4c-834b-4e8b68cec043",
   "metadata": {},
   "outputs": [],
   "source": [
    "df_unido['Total'] = df_unido['Consumo_Mes'] + df_unido['IVA']"
   ]
  },
  {
   "cell_type": "code",
   "execution_count": 44,
   "id": "566b9ce9-5f3f-4c0e-a807-12e90634d380",
   "metadata": {},
   "outputs": [
    {
     "data": {
      "text/html": [
       "<div>\n",
       "<style scoped>\n",
       "    .dataframe tbody tr th:only-of-type {\n",
       "        vertical-align: middle;\n",
       "    }\n",
       "\n",
       "    .dataframe tbody tr th {\n",
       "        vertical-align: top;\n",
       "    }\n",
       "\n",
       "    .dataframe thead th {\n",
       "        text-align: right;\n",
       "    }\n",
       "</style>\n",
       "<table border=\"1\" class=\"dataframe\">\n",
       "  <thead>\n",
       "    <tr style=\"text-align: right;\">\n",
       "      <th></th>\n",
       "      <th>Fecha_periodo</th>\n",
       "      <th>Periodo</th>\n",
       "      <th>Sociedad</th>\n",
       "      <th>Tipo_de_Cliente</th>\n",
       "      <th>Codigo_sector</th>\n",
       "      <th>Unidad</th>\n",
       "      <th>Consumo_Mes</th>\n",
       "      <th>Segmento_Tarifario</th>\n",
       "      <th>Sociedad descripcion</th>\n",
       "      <th>Descripcion sector / giro</th>\n",
       "      <th>IVA</th>\n",
       "      <th>Total</th>\n",
       "    </tr>\n",
       "  </thead>\n",
       "  <tbody>\n",
       "    <tr>\n",
       "      <th>0</th>\n",
       "      <td>2018-12-01</td>\n",
       "      <td>201812</td>\n",
       "      <td>MX02</td>\n",
       "      <td>IND</td>\n",
       "      <td>NA</td>\n",
       "      <td>GJ</td>\n",
       "      <td>248832.124</td>\n",
       "      <td>GCG1</td>\n",
       "      <td>CMG - Consorcio Mexi Gas SA de CV</td>\n",
       "      <td>NaN</td>\n",
       "      <td>39813.13984</td>\n",
       "      <td>288645.26384</td>\n",
       "    </tr>\n",
       "    <tr>\n",
       "      <th>1</th>\n",
       "      <td>2018-11-01</td>\n",
       "      <td>201811</td>\n",
       "      <td>MX02</td>\n",
       "      <td>IND</td>\n",
       "      <td>I37</td>\n",
       "      <td>GJ</td>\n",
       "      <td>617.976</td>\n",
       "      <td>GCG1</td>\n",
       "      <td>CMG - Consorcio Mexi Gas SA de CV</td>\n",
       "      <td>Resinas Sintéticas Y Fibras Químicas</td>\n",
       "      <td>98.87616</td>\n",
       "      <td>716.85216</td>\n",
       "    </tr>\n",
       "    <tr>\n",
       "      <th>2</th>\n",
       "      <td>2018-11-01</td>\n",
       "      <td>201811</td>\n",
       "      <td>MX02</td>\n",
       "      <td>IND</td>\n",
       "      <td>I26</td>\n",
       "      <td>GJ</td>\n",
       "      <td>450.708</td>\n",
       "      <td>GCG1</td>\n",
       "      <td>CMG - Consorcio Mexi Gas SA de CV</td>\n",
       "      <td>Otras Industrias Textiles</td>\n",
       "      <td>72.11328</td>\n",
       "      <td>522.82128</td>\n",
       "    </tr>\n",
       "    <tr>\n",
       "      <th>3</th>\n",
       "      <td>2018-11-01</td>\n",
       "      <td>201811</td>\n",
       "      <td>MX02</td>\n",
       "      <td>IND</td>\n",
       "      <td>I31</td>\n",
       "      <td>GJ</td>\n",
       "      <td>1069.373</td>\n",
       "      <td>GCG1</td>\n",
       "      <td>CMG - Consorcio Mexi Gas SA de CV</td>\n",
       "      <td>Papel Y Cartón</td>\n",
       "      <td>171.09968</td>\n",
       "      <td>1240.47268</td>\n",
       "    </tr>\n",
       "    <tr>\n",
       "      <th>4</th>\n",
       "      <td>2018-09-01</td>\n",
       "      <td>201809</td>\n",
       "      <td>MX02</td>\n",
       "      <td>IND</td>\n",
       "      <td>I42</td>\n",
       "      <td>GJ</td>\n",
       "      <td>7607.526</td>\n",
       "      <td>GCG1</td>\n",
       "      <td>CMG - Consorcio Mexi Gas SA de CV</td>\n",
       "      <td>Artículos De Plástico</td>\n",
       "      <td>1217.20416</td>\n",
       "      <td>8824.73016</td>\n",
       "    </tr>\n",
       "  </tbody>\n",
       "</table>\n",
       "</div>"
      ],
      "text/plain": [
       "  Fecha_periodo  Periodo Sociedad Tipo_de_Cliente Codigo_sector Unidad  \\\n",
       "0    2018-12-01   201812     MX02             IND            NA     GJ   \n",
       "1    2018-11-01   201811     MX02             IND           I37     GJ   \n",
       "2    2018-11-01   201811     MX02             IND           I26     GJ   \n",
       "3    2018-11-01   201811     MX02             IND           I31     GJ   \n",
       "4    2018-09-01   201809     MX02             IND           I42     GJ   \n",
       "\n",
       "   Consumo_Mes Segmento_Tarifario               Sociedad descripcion  \\\n",
       "0   248832.124               GCG1  CMG - Consorcio Mexi Gas SA de CV   \n",
       "1      617.976               GCG1  CMG - Consorcio Mexi Gas SA de CV   \n",
       "2      450.708               GCG1  CMG - Consorcio Mexi Gas SA de CV   \n",
       "3     1069.373               GCG1  CMG - Consorcio Mexi Gas SA de CV   \n",
       "4     7607.526               GCG1  CMG - Consorcio Mexi Gas SA de CV   \n",
       "\n",
       "              Descripcion sector / giro          IVA         Total  \n",
       "0                                   NaN  39813.13984  288645.26384  \n",
       "1  Resinas Sintéticas Y Fibras Químicas     98.87616     716.85216  \n",
       "2             Otras Industrias Textiles     72.11328     522.82128  \n",
       "3                        Papel Y Cartón    171.09968    1240.47268  \n",
       "4                 Artículos De Plástico   1217.20416    8824.73016  "
      ]
     },
     "execution_count": 44,
     "metadata": {},
     "output_type": "execute_result"
    }
   ],
   "source": [
    "df_unido.head()"
   ]
  },
  {
   "cell_type": "code",
   "execution_count": 45,
   "id": "34937260-24b5-4c14-bffa-509990b7cb34",
   "metadata": {},
   "outputs": [],
   "source": [
    "df_final = pd.merge(df_unido, df_tipoCliente, on='Tipo_de_Cliente', how='left')"
   ]
  },
  {
   "cell_type": "code",
   "execution_count": 46,
   "id": "5b53ac2b-15db-4a7c-9cfe-f5d2544615b8",
   "metadata": {},
   "outputs": [
    {
     "data": {
      "text/html": [
       "<div>\n",
       "<style scoped>\n",
       "    .dataframe tbody tr th:only-of-type {\n",
       "        vertical-align: middle;\n",
       "    }\n",
       "\n",
       "    .dataframe tbody tr th {\n",
       "        vertical-align: top;\n",
       "    }\n",
       "\n",
       "    .dataframe thead th {\n",
       "        text-align: right;\n",
       "    }\n",
       "</style>\n",
       "<table border=\"1\" class=\"dataframe\">\n",
       "  <thead>\n",
       "    <tr style=\"text-align: right;\">\n",
       "      <th></th>\n",
       "      <th>Fecha_periodo</th>\n",
       "      <th>Periodo</th>\n",
       "      <th>Sociedad</th>\n",
       "      <th>Tipo_de_Cliente</th>\n",
       "      <th>Codigo_sector</th>\n",
       "      <th>Unidad</th>\n",
       "      <th>Consumo_Mes</th>\n",
       "      <th>Segmento_Tarifario</th>\n",
       "      <th>Sociedad descripcion</th>\n",
       "      <th>Descripcion sector / giro</th>\n",
       "      <th>IVA</th>\n",
       "      <th>Total</th>\n",
       "      <th>Descripcion</th>\n",
       "    </tr>\n",
       "  </thead>\n",
       "  <tbody>\n",
       "    <tr>\n",
       "      <th>0</th>\n",
       "      <td>2018-12-01</td>\n",
       "      <td>201812</td>\n",
       "      <td>MX02</td>\n",
       "      <td>IND</td>\n",
       "      <td>NA</td>\n",
       "      <td>GJ</td>\n",
       "      <td>248832.124</td>\n",
       "      <td>GCG1</td>\n",
       "      <td>CMG - Consorcio Mexi Gas SA de CV</td>\n",
       "      <td>NaN</td>\n",
       "      <td>39813.13984</td>\n",
       "      <td>288645.26384</td>\n",
       "      <td>Industriales con distribución</td>\n",
       "    </tr>\n",
       "    <tr>\n",
       "      <th>1</th>\n",
       "      <td>2018-11-01</td>\n",
       "      <td>201811</td>\n",
       "      <td>MX02</td>\n",
       "      <td>IND</td>\n",
       "      <td>I37</td>\n",
       "      <td>GJ</td>\n",
       "      <td>617.976</td>\n",
       "      <td>GCG1</td>\n",
       "      <td>CMG - Consorcio Mexi Gas SA de CV</td>\n",
       "      <td>Resinas Sintéticas Y Fibras Químicas</td>\n",
       "      <td>98.87616</td>\n",
       "      <td>716.85216</td>\n",
       "      <td>Industriales con distribución</td>\n",
       "    </tr>\n",
       "    <tr>\n",
       "      <th>2</th>\n",
       "      <td>2018-11-01</td>\n",
       "      <td>201811</td>\n",
       "      <td>MX02</td>\n",
       "      <td>IND</td>\n",
       "      <td>I26</td>\n",
       "      <td>GJ</td>\n",
       "      <td>450.708</td>\n",
       "      <td>GCG1</td>\n",
       "      <td>CMG - Consorcio Mexi Gas SA de CV</td>\n",
       "      <td>Otras Industrias Textiles</td>\n",
       "      <td>72.11328</td>\n",
       "      <td>522.82128</td>\n",
       "      <td>Industriales con distribución</td>\n",
       "    </tr>\n",
       "    <tr>\n",
       "      <th>3</th>\n",
       "      <td>2018-11-01</td>\n",
       "      <td>201811</td>\n",
       "      <td>MX02</td>\n",
       "      <td>IND</td>\n",
       "      <td>I31</td>\n",
       "      <td>GJ</td>\n",
       "      <td>1069.373</td>\n",
       "      <td>GCG1</td>\n",
       "      <td>CMG - Consorcio Mexi Gas SA de CV</td>\n",
       "      <td>Papel Y Cartón</td>\n",
       "      <td>171.09968</td>\n",
       "      <td>1240.47268</td>\n",
       "      <td>Industriales con distribución</td>\n",
       "    </tr>\n",
       "    <tr>\n",
       "      <th>4</th>\n",
       "      <td>2018-09-01</td>\n",
       "      <td>201809</td>\n",
       "      <td>MX02</td>\n",
       "      <td>IND</td>\n",
       "      <td>I42</td>\n",
       "      <td>GJ</td>\n",
       "      <td>7607.526</td>\n",
       "      <td>GCG1</td>\n",
       "      <td>CMG - Consorcio Mexi Gas SA de CV</td>\n",
       "      <td>Artículos De Plástico</td>\n",
       "      <td>1217.20416</td>\n",
       "      <td>8824.73016</td>\n",
       "      <td>Industriales con distribución</td>\n",
       "    </tr>\n",
       "  </tbody>\n",
       "</table>\n",
       "</div>"
      ],
      "text/plain": [
       "  Fecha_periodo  Periodo Sociedad Tipo_de_Cliente Codigo_sector Unidad  \\\n",
       "0    2018-12-01   201812     MX02             IND            NA     GJ   \n",
       "1    2018-11-01   201811     MX02             IND           I37     GJ   \n",
       "2    2018-11-01   201811     MX02             IND           I26     GJ   \n",
       "3    2018-11-01   201811     MX02             IND           I31     GJ   \n",
       "4    2018-09-01   201809     MX02             IND           I42     GJ   \n",
       "\n",
       "   Consumo_Mes Segmento_Tarifario               Sociedad descripcion  \\\n",
       "0   248832.124               GCG1  CMG - Consorcio Mexi Gas SA de CV   \n",
       "1      617.976               GCG1  CMG - Consorcio Mexi Gas SA de CV   \n",
       "2      450.708               GCG1  CMG - Consorcio Mexi Gas SA de CV   \n",
       "3     1069.373               GCG1  CMG - Consorcio Mexi Gas SA de CV   \n",
       "4     7607.526               GCG1  CMG - Consorcio Mexi Gas SA de CV   \n",
       "\n",
       "              Descripcion sector / giro          IVA         Total  \\\n",
       "0                                   NaN  39813.13984  288645.26384   \n",
       "1  Resinas Sintéticas Y Fibras Químicas     98.87616     716.85216   \n",
       "2             Otras Industrias Textiles     72.11328     522.82128   \n",
       "3                        Papel Y Cartón    171.09968    1240.47268   \n",
       "4                 Artículos De Plástico   1217.20416    8824.73016   \n",
       "\n",
       "                     Descripcion  \n",
       "0  Industriales con distribución  \n",
       "1  Industriales con distribución  \n",
       "2  Industriales con distribución  \n",
       "3  Industriales con distribución  \n",
       "4  Industriales con distribución  "
      ]
     },
     "execution_count": 46,
     "metadata": {},
     "output_type": "execute_result"
    }
   ],
   "source": [
    "df_final.head()"
   ]
  },
  {
   "cell_type": "code",
   "execution_count": 47,
   "id": "7d371413-1f6e-4541-a3ef-8617234504f9",
   "metadata": {},
   "outputs": [
    {
     "name": "stdout",
     "output_type": "stream",
     "text": [
      "<class 'pandas.core.frame.DataFrame'>\n",
      "RangeIndex: 7540 entries, 0 to 7539\n",
      "Data columns (total 13 columns):\n",
      " #   Column                     Non-Null Count  Dtype         \n",
      "---  ------                     --------------  -----         \n",
      " 0   Fecha_periodo              7540 non-null   datetime64[ns]\n",
      " 1   Periodo                    7540 non-null   int64         \n",
      " 2   Sociedad                   7540 non-null   object        \n",
      " 3   Tipo_de_Cliente            7540 non-null   object        \n",
      " 4   Codigo_sector              7540 non-null   object        \n",
      " 5   Unidad                     7540 non-null   string        \n",
      " 6   Consumo_Mes                7540 non-null   float64       \n",
      " 7   Segmento_Tarifario         7540 non-null   string        \n",
      " 8   Sociedad descripcion       7540 non-null   object        \n",
      " 9   Descripcion sector / giro  6912 non-null   object        \n",
      " 10  IVA                        7540 non-null   float64       \n",
      " 11  Total                      7540 non-null   float64       \n",
      " 12  Descripcion                7540 non-null   object        \n",
      "dtypes: datetime64[ns](1), float64(3), int64(1), object(6), string(2)\n",
      "memory usage: 765.9+ KB\n"
     ]
    }
   ],
   "source": [
    "df_final.info()"
   ]
  },
  {
   "cell_type": "markdown",
   "id": "19952e28-2c03-43f9-8434-c0546921dda6",
   "metadata": {},
   "source": [
    "# Para el las tareas de Tablax Dax, la verdad no cuento con ese software\n",
    "Las demás tareas de visualización las realizaré con matplotlib :)"
   ]
  },
  {
   "cell_type": "code",
   "execution_count": 49,
   "id": "9aab2dea-d684-4b75-b4eb-74ab308511a8",
   "metadata": {},
   "outputs": [
    {
     "name": "stderr",
     "output_type": "stream",
     "text": [
      "findfont: Font family 'Calibri' not found.\n",
      "findfont: Font family 'Calibri' not found.\n",
      "findfont: Font family 'Calibri' not found.\n",
      "findfont: Font family 'Calibri' not found.\n",
      "findfont: Font family 'Calibri' not found.\n",
      "findfont: Font family 'Calibri' not found.\n",
      "findfont: Font family 'Calibri' not found.\n",
      "findfont: Font family 'Calibri' not found.\n",
      "findfont: Font family 'Calibri' not found.\n",
      "findfont: Font family 'Calibri' not found.\n",
      "findfont: Font family 'Calibri' not found.\n",
      "findfont: Font family 'Calibri' not found.\n",
      "findfont: Font family 'Calibri' not found.\n"
     ]
    },
    {
     "data": {
      "image/png": "[encoded data removed]",
      "text/plain": [
       "<Figure size 1200x600 with 1 Axes>"
      ]
     },
     "metadata": {},
     "output_type": "display_data"
    }
   ],
   "source": [
    "df_barras = df_final.groupby('Descripcion')['Total'].sum().reset_index()\n",
    "\n",
    "# Crear el gráfico de barras\n",
    "plt.figure(figsize=(12, 6))\n",
    "plt.bar(df_barras['Descripcion'], df_barras['Total'])\n",
    "\n",
    "# Configurar títulos y etiquetas\n",
    "plt.title('Total por Descripción', fontdict={'fontsize': 16, 'fontname': 'Calibri'})\n",
    "plt.xlabel('Descripción', fontdict={'fontsize': 12, 'fontname': 'Calibri'})\n",
    "plt.ylabel('Total', fontdict={'fontsize': 12, 'fontname': 'Calibri'})\n",
    "\n",
    "# Rotar las etiquetas del eje X si son muy largas\n",
    "plt.xticks(rotation=90, ha='right')\n",
    "\n",
    "# Ajustar el espaciado\n",
    "plt.tight_layout()\n",
    "\n",
    "# Mostrar el gráfico\n",
    "plt.show()\n"
   ]
  },
  {
   "cell_type": "code",
   "execution_count": 50,
   "id": "0e389352-0bba-45c7-a3ba-26e4c6c873ec",
   "metadata": {},
   "outputs": [
    {
     "name": "stderr",
     "output_type": "stream",
     "text": [
      "findfont: Font family 'Calibri' not found.\n",
      "findfont: Font family 'Calibri' not found.\n",
      "findfont: Font family 'Calibri' not found.\n",
      "findfont: Font family 'Calibri' not found.\n",
      "findfont: Font family 'Calibri' not found.\n"
     ]
    },
    {
     "data": {
      "image/png": "[encoded data removed]",
      "text/plain": [
       "<Figure size 800x800 with 1 Axes>"
      ]
     },
     "metadata": {},
     "output_type": "display_data"
    }
   ],
   "source": [
    "df_pie = df_final.groupby('Tipo_de_Cliente')['Total'].sum().reset_index()\n",
    "\n",
    "# Crear el gráfico de pie\n",
    "plt.figure(figsize=(8, 8))\n",
    "plt.pie(df_pie['Total'], labels=df_pie['Tipo_de_Cliente'], autopct='%1.1f%%', startangle=140)\n",
    "\n",
    "# Configurar título\n",
    "plt.title('Distribución de Total por Tipo de Cliente', fontdict={'fontsize': 16, 'fontname': 'Calibri'})\n",
    "\n",
    "# Mostrar el gráfico\n",
    "plt.axis('equal')  # Para que el pie se vea como un círculo\n",
    "plt.show()"
   ]
  },
  {
   "cell_type": "markdown",
   "id": "6416fa31-d917-4929-be2a-4ebb74b95775",
   "metadata": {},
   "source": [
    "## La matriz no la puedo hacer porque no cuento con la herramienta DAX :("
   ]
  },
  {
   "cell_type": "code",
   "execution_count": null,
   "id": "40102e44-be3a-44ad-bf3d-8822892d58f4",
   "metadata": {},
   "outputs": [],
   "source": []
  }
 ],
 "metadata": {
  "kernelspec": {
   "display_name": "Python 3 (ipykernel)",
   "language": "python",
   "name": "python3"
  },
  "language_info": {
   "codemirror_mode": {
    "name": "ipython",
    "version": 3
   },
   "file_extension": ".py",
   "mimetype": "text/x-python",
   "name": "python",
   "nbconvert_exporter": "python",
   "pygments_lexer": "ipython3",
   "version": "3.12.2"
  }
 },
 "nbformat": 4,
 "nbformat_minor": 5
}
