# Importamos las librerias
import pandas as pd


df_pbi = pd.read_excel('Ejercicio_set_de_datos_PBI.xlsx', sheet_name='Datos_consumo')


df_pbi.head()


df_pbi.info()


nuevos_nombres = []
for nombres_viejos in df_pbi.columns:
    sin_espacios = nombres_viejos.replace(' ','_')
    nuevos_nombres.append(sin_espacios)


df_pbi.columns = nuevos_nombres


df_pbi.rename(columns={'Periodo_Fis': 'Periodo', 'codigo_sector': 'Codigo_sector'}, inplace=True)


df_pbi.columns


df_pbi[['Sociedad','Tipo_de_Cliente','Codigo_sector','Unidad','Segmento_Tarifario']] = df_pbi[['Sociedad','Tipo_de_Cliente','Codigo_sector','Unidad','Segmento_Tarifario']].astype('string')


df_pbi.info()


df_pbi[['Unidad','Segmento_Tarifario']] = df_pbi[['Unidad','Segmento_Tarifario']].fillna('NA')


df_pbi.info()



