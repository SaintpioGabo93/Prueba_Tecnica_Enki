





# Importamos las librerias
import pandas as pd
from matplotlib import pyplot as plt


# Primera hoja del archivo xlsl
df_datosConsumo = pd.read_excel('Ejercicio_set_de_datos_PBI.xlsx', sheet_name='Datos_consumo')


df_datosConsumo.head()


df_datosConsumo.info()


nuevos_nombres = []
for nombres_viejos in df_datosConsumo.columns:
    sin_espacios = nombres_viejos.replace(' ','_')
    nuevos_nombres.append(sin_espacios)


df_datosConsumo.columns = nuevos_nombres


df_datosConsumo.rename(columns={'Periodo_Fis': 'Periodo', 'codigo_sector': 'Codigo_sector'}, inplace=True)


df_datosConsumo.columns


df_datosConsumo[['Sociedad','Tipo_de_Cliente','Codigo_sector','Unidad','Segmento_Tarifario']] = df_datosConsumo[['Sociedad','Tipo_de_Cliente','Codigo_sector','Unidad','Segmento_Tarifario']].astype('string')


df_datosConsumo.info()


df_datosConsumo[['Unidad','Segmento_Tarifario']] = df_datosConsumo[['Unidad','Segmento_Tarifario']].fillna('NA')


df_datosConsumo.info()





df_datosConsumo[df_datosConsumo['Codigo_sector'].isna()]





df_datosConsumo['Codigo_sector'] = df_datosConsumo['Codigo_sector'].fillna('NA')


df_datosConsumo[df_datosConsumo['Codigo_sector'].isna()]


# Tercera hoja del archivo xlsl
df_catsect = pd.read_excel('Ejercicio_set_de_datos_PBI.xlsx', sheet_name='cat_sectores', header=0)





df_catsect.head()


df_catsect.rename(columns={'codigo de sector':'Codigo_sector'}, inplace=True)


df_catsect.info()


# Segunda hoja del archivo xlsl
df_sociedades = pd.read_excel('Ejercicio_set_de_datos_PBI.xlsx', sheet_name='Sociedades', header=0)


df_sociedades.head()


df_sociedades.rename(columns={'Sociedad clave': 'Sociedad'}, inplace=True)


df_sociedades.info()


# Cuarta hoja del archivo xlsl

df_tipoCliente = pd.read_excel('Ejercicio_set_de_datos_PBI.xlsx', sheet_name='Tipo de cliente')


df_tipoCliente.head()


df_tipoCliente.info()


df_tipoCliente['Tipo_de_Cliente'].astype('string')


df_tipoCliente.rename(columns={'Clave cliente':'Tipo_de_Cliente'}, inplace=True)





Sociedades_datosConsumo_merge = pd.merge(df_datosConsumo, df_sociedades, on='Sociedad', how='left')
#Sociedades_datosConsumo_merge = Sociedades_datosConsumo_merge.reset_index()


Sociedades_datosConsumo_merge.head()


df_unido = pd.merge(Sociedades_datosConsumo_merge, df_catsect, on='Codigo_sector', how='left')
#df_unido = df_unido.reset_index()


df_unido.head()





df_unido['IVA'] = df_unido['Consumo_Mes'] * 0.16


df_unido['IVA'].head()


df_unido['Total'] = df_unido['Consumo_Mes'] + df_unido['IVA']


df_unido.head()


df_final = pd.merge(df_unido, df_tipoCliente, on='Tipo_de_Cliente', how='left')


df_final.head()


df_final.info()





df_barras = df_final.groupby('Descripcion')['Total'].sum().reset_index()

# Crear el gráfico de barras
plt.figure(figsize=(12, 6))
plt.bar(df_barras['Descripcion'], df_barras['Total'])

# Configurar títulos y etiquetas
plt.title('Total por Descripción', fontdict={'fontsize': 16, 'fontname': 'Calibri'})
plt.xlabel('Descripción', fontdict={'fontsize': 12, 'fontname': 'Calibri'})
plt.ylabel('Total', fontdict={'fontsize': 12, 'fontname': 'Calibri'})

# Rotar las etiquetas del eje X si son muy largas
plt.xticks(rotation=90, ha='right')

# Ajustar el espaciado
plt.tight_layout()

# Mostrar el gráfico
plt.show()



df_pie = df_final.groupby('Tipo_de_Cliente')['Total'].sum().reset_index()

# Crear el gráfico de pie
plt.figure(figsize=(8, 8))
plt.pie(df_pie['Total'], labels=df_pie['Tipo_de_Cliente'], autopct='%1.1f%%', startangle=140)

# Configurar título
plt.title('Distribución de Total por Tipo de Cliente', fontdict={'fontsize': 16, 'fontname': 'Calibri'})

# Mostrar el gráfico
plt.axis('equal')  # Para que el pie se vea como un círculo
plt.show()






